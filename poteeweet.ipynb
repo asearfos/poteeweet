{
 "cells": [
  {
   "cell_type": "code",
   "execution_count": 1,
   "metadata": {},
   "outputs": [
    {
     "name": "stderr",
     "output_type": "stream",
     "text": [
      "WARNING: TargetAlwaysUpWarning: Target with index 0 does not cross horizon=-18.0 deg within 24 hours [astroplan.observer]\n",
      "WARNING: ErfaWarning: ERFA function \"utctai\" yielded 1 of \"dubious year (Note 3)\" [astropy._erfa.core]\n",
      "WARNING: TargetAlwaysUpWarning: Target with index 0 does not cross horizon=-6.0 deg within 24 hours [astroplan.observer]\n",
      "WARNING: TargetAlwaysUpWarning: Target with index 0 does not cross horizon=-12.0 deg within 24 hours [astroplan.observer]\n",
      "WARNING: ErfaWarning: ERFA function \"dtf2d\" yielded 1 of \"dubious year (Note 6)\" [astropy._erfa.core]\n",
      "WARNING: ErfaWarning: ERFA function \"d2dtf\" yielded 1 of \"dubious year (Note 5)\" [astropy._erfa.core]\n",
      "WARNING: ErfaWarning: ERFA function \"taiutc\" yielded 1 of \"dubious year (Note 4)\" [astropy._erfa.core]\n",
      "WARNING: ErfaWarning: ERFA function \"taiutc\" yielded 150 of \"dubious year (Note 4)\" [astropy._erfa.core]\n",
      "WARNING: ErfaWarning: ERFA function \"utctai\" yielded 150 of \"dubious year (Note 3)\" [astropy._erfa.core]\n",
      "WARNING: Tried to get polar motions for times before IERS data is valid. Defaulting to polar motion from the 50-yr mean for those. This may affect precision at the 10s of arcsec level [astropy.coordinates.builtin_frames.utils]\n",
      "WARNING: ErfaWarning: ERFA function \"utcut1\" yielded 150 of \"dubious year (Note 3)\" [astropy._erfa.core]\n",
      "WARNING: ErfaWarning: ERFA function \"apio13\" yielded 150 of \"dubious year (Note 2)\" [astropy._erfa.core]\n"
     ]
    }
   ],
   "source": [
    "import pytz\n",
    "from astropy.io import ascii\n",
    "import astropy.units as u\n",
    "from astropy.coordinates import EarthLocation, Angle\n",
    "from astroplan import Observer\n",
    "from tzwhere import tzwhere\n",
    "tz = tzwhere.tzwhere()\n",
    "from astropy.time import Time\n",
    "\n",
    "table = ascii.read('data.csv')\n",
    "\n",
    "relative_times = []\n",
    "\n",
    "relative_civil = []\n",
    "relative_nautical = []\n",
    "relative_astronomical = []\n",
    "\n",
    "for i in range(len(table)): \n",
    "    lat = Angle(table['Latitude'][i], u.deg)\n",
    "    lon = Angle(table['Longitude'][i], u.deg)\n",
    "    \n",
    "    location = EarthLocation.from_geodetic(lon, lat)\n",
    "    \n",
    "    timezone = tz.tzNameAt(lat.deg, lon.deg)\n",
    "    \n",
    "    if timezone is not None:\n",
    "        obs = Observer(location=location, timezone=pytz.timezone(timezone))\n",
    "        \n",
    "        if (table['RecordingYear'].data[i] is not None and \n",
    "            table['RecordingDay'].data[i] is not None and \n",
    "            table['RecordingTime'].data[i] is not None): \n",
    "            \n",
    "            datetime = list(map(str, [table['RecordingYear'].data[i],  \n",
    "                                      table['RecordingMonth'].data[i],\n",
    "                                      table['RecordingDay'].data[i], \n",
    "                                      table['RecordingTime'].data[i]]))\n",
    "            try: \n",
    "                local_time = Time(\"{0}-{1}-{2} {3}\".format(*datetime)).datetime\n",
    "                localized_time = pytz.timezone(timezone).localize(local_time)\n",
    "                astropy_time = Time(localized_time)\n",
    "                \n",
    "                sunrise = obs.sun_rise_time(astropy_time, which='nearest')\n",
    "                astro = obs.twilight_morning_astronomical(astropy_time, which='nearest')\n",
    "                civil = obs.twilight_morning_civil(astropy_time, which='nearest')\n",
    "                nautical = obs.twilight_morning_nautical(astropy_time, which='nearest')\n",
    "                \n",
    "                if sunrise < astropy_time: \n",
    "                    relative_times.append('after sunrise')\n",
    "                else: \n",
    "                    relative_times.append('before sunrise')\n",
    "\n",
    "                if civil < astropy_time:\n",
    "                    relative_civil.append('after civil')\n",
    "                else:\n",
    "                    relative_civil.append('before civil')\n",
    "                if nautical < astropy_time:\n",
    "                    relative_nautical.append('after nautical')\n",
    "                else: \n",
    "                    relative_nautical.append('before nautical')\n",
    "                if astro < astropy_time: \n",
    "                    relative_astronomical.append('after astronomical')\n",
    "                else: \n",
    "                    relative_astronomical.append('before astronomical')\n",
    "    \n",
    "            except ValueError: \n",
    "                relative_times.append('--')\n",
    "                relative_astronomical.append('--')\n",
    "                relative_civil.append('--')\n",
    "                relative_nautical.append('--')\n",
    "        else: \n",
    "            relative_times.append('--')\n",
    "            relative_astronomical.append('--')\n",
    "            relative_civil.append('--')\n",
    "            relative_nautical.append('--')\n",
    "    else: \n",
    "        relative_times.append('--')\n",
    "        relative_astronomical.append('--')\n",
    "        relative_civil.append('--')\n",
    "        relative_nautical.append('--')"
   ]
  },
  {
   "cell_type": "code",
   "execution_count": 2,
   "metadata": {},
   "outputs": [],
   "source": [
    "# with open('relative_times.csv', 'w') as w:\n",
    "#     w.write('\\n'.join(relative_times))"
   ]
  },
  {
   "cell_type": "code",
   "execution_count": 3,
   "metadata": {},
   "outputs": [
    {
     "name": "stderr",
     "output_type": "stream",
     "text": [
      "WARNING: AstropyDeprecationWarning: relative_times.csv already exists. Automatically overwriting ASCII files is deprecated. Use the argument 'overwrite=True' in the future. [astropy.io.ascii.ui]\n"
     ]
    }
   ],
   "source": [
    "from astropy.io import ascii\n",
    "from astropy.table import Table\n",
    "\n",
    "table = Table([relative_times, relative_civil, relative_nautical, relative_astronomical])\n",
    "\n",
    "ascii.write(table, format='csv', output='relative_times.csv')"
   ]
  },
  {
   "cell_type": "code",
   "execution_count": null,
   "metadata": {},
   "outputs": [],
   "source": []
  }
 ],
 "metadata": {
  "kernelspec": {
   "display_name": "Python 3",
   "language": "python",
   "name": "python3"
  },
  "language_info": {
   "codemirror_mode": {
    "name": "ipython",
    "version": 3
   },
   "file_extension": ".py",
   "mimetype": "text/x-python",
   "name": "python",
   "nbconvert_exporter": "python",
   "pygments_lexer": "ipython3",
   "version": "3.5.4"
  }
 },
 "nbformat": 4,
 "nbformat_minor": 2
}
